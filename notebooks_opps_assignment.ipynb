{
  "metadata": {
    "language_info": {
      "codemirror_mode": {
        "name": "python",
        "version": 3
      },
      "file_extension": ".py",
      "mimetype": "text/x-python",
      "name": "python",
      "nbconvert_exporter": "python",
      "pygments_lexer": "ipython3",
      "version": "3.8"
    },
    "kernelspec": {
      "name": "python",
      "display_name": "Python (Pyodide)",
      "language": "python"
    }
  },
  "nbformat_minor": 4,
  "nbformat": 4,
  "cells": [
    {
      "cell_type": "code",
      "source": "#Q1->creat a vehicle class with an init method having instance variable as name_of_vehicle , max_speed ,avrage_speed_of_vehicle\n# class vehicle:\nclass Vehicle:\n    def __init__(self, name_of_vehicle, max_speed, average_speed_of_vehicle):\n        self.name_of_vehicle = name_of_vehicle\n        self.max_speed = max_speed\n        self.average_speed_of_vehicle = average_speed_of_vehicle\n        \n#Q2-> create a child class car from the vehicle class creat in que1 , which will inherit the vehicle class.create a method named \n#seating_capacity which take capacity as an argument and  retuen the name of the vehical and its seating capacity.\nclass Car(Vehicle):\n    def seating_capacity(self, capacity):\n        return f\"{self.name_of_vehicle} has a seating capacity of {capacity} people.\"\nsuzuki=Car(\"swift\",120,30)\nprint(suzuki.seating_capacity(5))",
      "metadata": {
        "trusted": true
      },
      "execution_count": 1,
      "outputs": [
        {
          "name": "stdout",
          "text": "swift has a seating capacity of 5 people.\n",
          "output_type": "stream"
        }
      ]
    },
    {
      "cell_type": "code",
      "source": "#Q3-> What is multiple inheritance? Write a python code to demonstrate multiple inheritance.\n\n# Answer->\n# Multiple inheritance is a feature in object-oriented programming where a class can inherit attributes and methods\n# from multiple parent classes. This allows the child class to have the combined functionality of all its parent\n# classes.\n\nclass A:\n    def in_class_A(self):\n        print(\"This the method of class A\")\n\nclass B :\n    def in_class_B(self):\n        print(\"This is the method in class B\")\n\nclass C (A,B):# here we inherite the properties of the class A and class B in class C\n    def class_in_C(self):\n        print(\"you are in class c\")\n\nvar = C()\nvar.class_in_C()\nvar.in_class_A()\nvar.in_class_B()\n",
      "metadata": {
        "trusted": true
      },
      "execution_count": 2,
      "outputs": [
        {
          "name": "stdout",
          "text": "you are in class c\nThis the method of class A\nThis is the method in class B\n",
          "output_type": "stream"
        }
      ]
    },
    {
      "cell_type": "code",
      "source": "# Q4. What are getter and setter in python? Create a class and create a getter and a setter method in this\n# class.\n\n#ANSWER ->\n\n# Getter and setter methods are used to access and modify the values of private attributes in Python classes.\n# Private attributes are variables that are intended to be accessed only within the class, and not from outside.\n\n# A getter method is a method that gets the value of a private attribute, and a setter method is a method that \n# sets the value of a private attribute.\n\n\nclass collge_ERP:\n    def __init__(self,name_of_student,Branch_of_student,phone_number,sign_in_ID,password):\n        self.name_of_student=name_of_student\n        self.Branch_of_student=Branch_of_student\n        self.phone_number=phone_number\n        self.__sign_in_ID=sign_in_ID\n        self.__password=password\n\n    def student_data(self):\n        data ={ \"NAME_OF_STUDENT\":self.name_of_student,\"BRANCH\":self.Branch_of_student,\"PHONE_NUMBER\":self.phone_number}\n        return data\n    def set_password(self,x):\n        self.__password=x\n    def set_ID(self,x):\n        self.__sign_in_ID=x\n    def get_ID(self):\n        return self.__sign_in_ID\n\nstudent01 = collge_ERP(\"Vishal\",\"Electrical and Electronic Engineering\",\"2439447924\",'BT22EE02',\"DJNIFBIUD12342@OFINO\" )\nprint(student01.student_data())\nprint('''\"getter method\" for access student id''' ,student01.get_ID())\nstudent01.set_ID(\"BT22EEE03\")\nprint(\" Modify id \",student01.get_ID())\n\n# Here's an example Python class that has a private attribute Sign_IN_ID, and a getter method get_ID and a setter method\n# set_ID to access and modify its value:\n",
      "metadata": {
        "trusted": true
      },
      "execution_count": 5,
      "outputs": [
        {
          "name": "stdout",
          "text": "{'NAME_OF_STUDENT': 'Vishal', 'BRANCH': 'Electrical and Electronic Engineering', 'PHONE_NUMBER': '2439447924'}\n\"getter method\" for access student id BT22EE02\n Modify id  BT22EEE03\n",
          "output_type": "stream"
        }
      ]
    },
    {
      "cell_type": "code",
      "source": "# Q5->  What is method overriding in python? Write a python code to demonstrate method overriding.\n\n# ANSWER ->\n\n# Method overriding is a feature in object-oriented programming where a child class can define a method with the\n# same name as a method in its parent class, thereby replacing the parent method with its own implementation. \n# This allows the child class to customize the behavior of the parent method.\n\nclass A():\n    def __init__(self):\n        self.var = \"you are in class A\"\n          \n    def show(self):\n        print(self.var)\n          \nclass B(A):\n      \n    def __init__(self):\n        self.var = \"you are in class B\"\n\n    def show(self):\n        print(self.var)\n\nobject_A=A()\nobject_B=B()\n  \nobject_A.show()\nobject_B.show()\n\n\n",
      "metadata": {
        "trusted": true
      },
      "execution_count": 7,
      "outputs": [
        {
          "name": "stdout",
          "text": "you are in class A\nyou are in class B\n",
          "output_type": "stream"
        }
      ]
    },
    {
      "cell_type": "code",
      "source": "",
      "metadata": {},
      "execution_count": null,
      "outputs": []
    }
  ]
}